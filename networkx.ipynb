{
 "cells": [
  {
   "cell_type": "code",
   "execution_count": 57,
   "metadata": {},
   "outputs": [],
   "source": [
    "from neo4j import GraphDatabase\n",
    "from neo4j.types.graph import Node, Relationship\n",
    "import pandas as pd\n",
    "import networkx as nx\n",
    "import matplotlib.pyplot as plt\n",
    "\n",
    "def graph_from_cypher(data):\n",
    "    \"\"\"Constructs a networkx graph from the results of a neo4j cypher query.\n",
    "    Example of use:\n",
    "    >>> result = session.run(query)\n",
    "    >>> G = graph_from_cypher(result.data())\n",
    "\n",
    "    Nodes have fields 'labels' (frozenset) and 'properties' (dicts). Node IDs correspond to the neo4j graph.\n",
    "    Edges have fields 'type_' (string) denoting the type of relation, and 'properties' (dict).\"\"\"\n",
    "\n",
    "    G = nx.MultiDiGraph()\n",
    "    def add_node(node):\n",
    "        # Adds node id it hasn't already been added\n",
    "        u = node.id\n",
    "        if G.has_node(u):\n",
    "            return\n",
    "        G.add_node(u, labels=node._labels, properties=dict(node))\n",
    "\n",
    "    def add_edge(relation):\n",
    "        # Adds edge if it hasn't already been added.\n",
    "        # Make sure the nodes at both ends are created\n",
    "        for node in (relation.start_node, relation.end_node):\n",
    "            add_node(node)\n",
    "        # Check if edge already exists\n",
    "        u = relation.start_node.id\n",
    "        v = relation.end_node.id\n",
    "        eid = relation.id\n",
    "        if G.has_edge(u, v, key=eid):\n",
    "            return\n",
    "        # If not, create it\n",
    "        G.add_edge(u, v, key=eid, type_=relation.type, properties=dict(relation))\n",
    "\n",
    "    for d in data:\n",
    "        for entry in d.values():\n",
    "            # Parse node\n",
    "            if isinstance(entry, Node):\n",
    "                add_node(entry)\n",
    "\n",
    "            # Parse link\n",
    "            elif isinstance(entry, Relationship):\n",
    "                add_edge(entry)\n",
    "            else:\n",
    "                raise TypeError(\"Unrecognized object\")\n",
    "    return G\n",
    "\n",
    "driver = GraphDatabase.driver('bolt://localhost:7687', auth=(\"neo4j\", \"1111\"))\n",
    "\n",
    "query = \"\"\"\n",
    "START n=node(*) MATCH (n)-[r]->(m) RETURN n,r,m;\n",
    "\"\"\"\n",
    "\n",
    "with driver.session() as session:\n",
    "    result = session.run(query)\n",
    "\n",
    "# This works\n",
    "G = graph_from_cypher(result.data())"
   ]
  },
  {
   "cell_type": "code",
   "execution_count": 79,
   "metadata": {},
   "outputs": [
    {
     "data": {
      "image/png": "[encoded data removed]",
      "text/plain": [
       "<Figure size 432x288 with 1 Axes>"
      ]
     },
     "metadata": {
      "needs_background": "light"
     },
     "output_type": "display_data"
    }
   ],
   "source": [
    "import math\n",
    "import numpy as np\n",
    "def plot_degree_dist(G):\n",
    "    degrees = [G.degree(n) for n in G.nodes()]\n",
    "    hist, bins = np.histogram(degrees, bins=10)\n",
    "    logbins = np.logspace(np.log10(bins[0]),np.log10(bins[-1]),len(bins))\n",
    "    plt.hist(degrees, bins=logbins)\n",
    "    plt.title('Degree Distribution of Product graph')\n",
    "    plt.xscale('log')\n",
    "    plt.ylabel('Number of nodes')\n",
    "    plt.xlabel('degrees (log scale)')\n",
    "    plt.show()\n",
    "\n",
    "plot_degree_dist(G)"
   ]
  },
  {
   "cell_type": "code",
   "execution_count": 59,
   "metadata": {},
   "outputs": [
    {
     "data": {
      "text/plain": [
       "2960"
      ]
     },
     "execution_count": 59,
     "metadata": {},
     "output_type": "execute_result"
    }
   ],
   "source": [
    "G.number_of_nodes()"
   ]
  },
  {
   "cell_type": "code",
   "execution_count": 60,
   "metadata": {},
   "outputs": [
    {
     "data": {
      "text/plain": [
       "5289"
      ]
     },
     "execution_count": 60,
     "metadata": {},
     "output_type": "execute_result"
    }
   ],
   "source": [
    "G.number_of_edges()"
   ]
  },
  {
   "cell_type": "code",
   "execution_count": 85,
   "metadata": {},
   "outputs": [
    {
     "name": "stderr",
     "output_type": "stream",
     "text": [
      "C:\\Users\\super\\Anaconda3\\lib\\site-packages\\ipykernel_launcher.py:1: MatplotlibDeprecationWarning: \n",
      "The 'normed' kwarg was deprecated in Matplotlib 2.1 and will be removed in 3.1. Use 'density' instead.\n",
      "  \"\"\"Entry point for launching an IPython kernel.\n"
     ]
    },
    {
     "data": {
      "text/plain": [
       "<function matplotlib.pyplot.show(*args, **kw)>"
      ]
     },
     "execution_count": 85,
     "metadata": {},
     "output_type": "execute_result"
    },
    {
     "data": {
      "image/png": "[encoded data removed]",
      "text/plain": [
       "<Figure size 432x288 with 1 Axes>"
      ]
     },
     "metadata": {
      "needs_background": "light"
     },
     "output_type": "display_data"
    }
   ],
   "source": [
    "plt.hist(nx.degree_histogram(G),normed=1)\n",
    "plt.xscale('log')\n",
    "plt.show"
   ]
  },
  {
   "cell_type": "code",
   "execution_count": null,
   "metadata": {},
   "outputs": [],
   "source": []
  }
 ],
 "metadata": {
  "kernelspec": {
   "display_name": "Python 3",
   "language": "python",
   "name": "python3"
  },
  "language_info": {
   "codemirror_mode": {
    "name": "ipython",
    "version": 3
   },
   "file_extension": ".py",
   "mimetype": "text/x-python",
   "name": "python",
   "nbconvert_exporter": "python",
   "pygments_lexer": "ipython3",
   "version": "3.7.4"
  }
 },
 "nbformat": 4,
 "nbformat_minor": 4
}
