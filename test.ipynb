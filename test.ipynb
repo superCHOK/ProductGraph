{
 "cells": [
  {
   "cell_type": "code",
   "execution_count": 1,
   "metadata": {},
   "outputs": [],
   "source": [
    "import requests\n",
    "from bs4 import BeautifulSoup\n",
    "\n",
    "# send a request to the website\n",
    "page = requests.get(\"https://www.lazada.co.th/products/civet-home-i397678497-s772762671.html?spm=a2o4m.home.flashSale.2.4ccd515fapRAQ5&search=1&mp=1&c=fs&clickTrackInfo=%7B%22rs%22%3A%220.047339800426754286%22%2C%22prior_score%22%3A%220%22%2C%22submission_discount%22%3A%2269%25%22%2C%22iss%22%3A%220.047339800426754286%22%2C%22rmc%22%3A%2213%22%2C%22type%22%3A%22entrance%22%2C%22prior_type%22%3A%22racing%22%2C%22userid%22%3A%22%22%2C%22sca%22%3A%2213%22%2C%22hourtonow%22%3A%2213%22%2C%22abid%22%3A%22155069%22%2C%22itemid%22%3A%22397678497_0_racing_0.047339800426754286_0.047339800426754286%22%2C%22pvid%22%3A%22308400c6-4dbb-4267-b9ff-fb4e28d412f2%22%2C%22pos%22%3A%220%22%2C%22rms%22%3A%220.04642857142857143%22%2C%22c2i%22%3A%220.0%22%2C%22scm%22%3A%221007.17760.155069.%22%2C%22ss%22%3A%220.047339800426754286%22%2C%22i2i%22%3A%220.0%22%2C%22ms%22%3A%220.047339800426754286%22%2C%22itr%22%3A%220.06%22%2C%22mt%22%3A%22racing%22%2C%22its%22%3A%221000%22%2C%22promotion_price%22%3A%22275.00%22%2C%22anonid%22%3A%22bac1217b-70ca-40ce-823c-bea3d89583a1%22%2C%22FinalScore%22%3A%220.0660406%22%2C%22isc%22%3A%2260%22%2C%22iss2%22%3A%220.5497581485290549%22%2C%22iss1%22%3A%220.03397508493771234%22%2C%22config%22%3A%22%22%2C%22HP_score%22%3A%220.0660406%22%7D&scm=1007.17760.155069.0\")\n",
    "\n",
    "# Use BeautifulSoup to parse HTML using html5 protocol. It is slower\n",
    "# but more efficient \n",
    "page_content = BeautifulSoup(page.text, \"html5lib\")"
   ]
  },
  {
   "cell_type": "code",
   "execution_count": 21,
   "metadata": {},
   "outputs": [],
   "source": [
    "# import library\n",
    "import tensorflow as tf\n",
    "import numpy as np\n",
    "import pandas as pd\n",
    "import matplotlib.pyplot as plt\n",
    "import csv\n",
    "import xlsxwriter\n",
    "\n",
    "import pythainlp\n",
    "import pythaispell\n",
    "from gingerit.gingerit import GingerIt\n",
    "from langdetect import detect\n",
    "import nltk\n",
    "from keras import *\n",
    "from keras.utils import to_categorical\n",
    "from pythainlp import word_tokenize\n",
    "from pythainlp.corpus import thai_stopwords\n",
    "from pythainlp.corpus import wordnet\n",
    "from nltk.stem.porter import PorterStemmer\n",
    "from nltk.corpus import words\n",
    "from stop_words import get_stop_words\n",
    "from sklearn.feature_extraction.text import CountVectorizer\n",
    "from sklearn.feature_extraction.text import TfidfVectorizer\n",
    "from sklearn.metrics import confusion_matrix, classification_report\n",
    "from pythainlp.corpus.common import thai_words\n",
    "from pythainlp.tokenize import dict_trie\n",
    "from pythainlp.tag.named_entity import ThaiNameTagger\n",
    "from pythainlp.word_vector import get_model\n",
    "from sklearn.model_selection import train_test_split\n",
    "\n",
    "from sklearn.model_selection import train_test_split\n",
    "\n"
   ]
  },
  {
   "cell_type": "code",
   "execution_count": 22,
   "metadata": {},
   "outputs": [
    {
     "data": {
      "text/plain": [
       "OrderedDict([('Sheet1',       No  idx                word   pos tag\n",
       "              0      0    0  SmartphonesSAMSUNG  NCMN   O\n",
       "              1      1    0              Galaxy  NCMN   O\n",
       "              2      2    0                   A  NCMN   O\n",
       "              3      3    0                  20  DCNM   O\n",
       "              4      4    0                   s  NCMN   O\n",
       "              ..   ...  ...                 ...   ...  ..\n",
       "              769  769    4             Battery  NCMN   O\n",
       "              770  770    4            Capacity  NCMN   O\n",
       "              771  771    4                3000  NCNM   O\n",
       "              772  772    4                3999  NCNM   O\n",
       "              773  773    4                 mAh  CMTR   O\n",
       "              \n",
       "              [774 rows x 5 columns])])"
      ]
     },
     "execution_count": 22,
     "metadata": {},
     "output_type": "execute_result"
    }
   ],
   "source": [
    "# Try entity extraction from hand-labeld data\n",
    "\n",
    "# import data from Excel\n",
    "df = pd.read_excel('./Data/Sheet0_token_test.xlsx',sheet_name=None)\n",
    "df"
   ]
  },
  {
   "cell_type": "code",
   "execution_count": 23,
   "metadata": {},
   "outputs": [
    {
     "data": {
      "text/html": [
       "<div>\n",
       "<style scoped>\n",
       "    .dataframe tbody tr th:only-of-type {\n",
       "        vertical-align: middle;\n",
       "    }\n",
       "\n",
       "    .dataframe tbody tr th {\n",
       "        vertical-align: top;\n",
       "    }\n",
       "\n",
       "    .dataframe thead th {\n",
       "        text-align: right;\n",
       "    }\n",
       "</style>\n",
       "<table border=\"1\" class=\"dataframe\">\n",
       "  <thead>\n",
       "    <tr style=\"text-align: right;\">\n",
       "      <th></th>\n",
       "      <th>No</th>\n",
       "      <th>idx</th>\n",
       "      <th>word</th>\n",
       "      <th>pos</th>\n",
       "      <th>tag</th>\n",
       "    </tr>\n",
       "  </thead>\n",
       "  <tbody>\n",
       "    <tr>\n",
       "      <th>0</th>\n",
       "      <td>0</td>\n",
       "      <td>0</td>\n",
       "      <td>SmartphonesSAMSUNG</td>\n",
       "      <td>NCMN</td>\n",
       "      <td>O</td>\n",
       "    </tr>\n",
       "    <tr>\n",
       "      <th>1</th>\n",
       "      <td>1</td>\n",
       "      <td>0</td>\n",
       "      <td>Galaxy</td>\n",
       "      <td>NCMN</td>\n",
       "      <td>O</td>\n",
       "    </tr>\n",
       "    <tr>\n",
       "      <th>2</th>\n",
       "      <td>2</td>\n",
       "      <td>0</td>\n",
       "      <td>A</td>\n",
       "      <td>NCMN</td>\n",
       "      <td>O</td>\n",
       "    </tr>\n",
       "    <tr>\n",
       "      <th>3</th>\n",
       "      <td>3</td>\n",
       "      <td>0</td>\n",
       "      <td>20</td>\n",
       "      <td>DCNM</td>\n",
       "      <td>O</td>\n",
       "    </tr>\n",
       "    <tr>\n",
       "      <th>4</th>\n",
       "      <td>4</td>\n",
       "      <td>0</td>\n",
       "      <td>s</td>\n",
       "      <td>NCMN</td>\n",
       "      <td>O</td>\n",
       "    </tr>\n",
       "    <tr>\n",
       "      <th>...</th>\n",
       "      <td>...</td>\n",
       "      <td>...</td>\n",
       "      <td>...</td>\n",
       "      <td>...</td>\n",
       "      <td>...</td>\n",
       "    </tr>\n",
       "    <tr>\n",
       "      <th>769</th>\n",
       "      <td>769</td>\n",
       "      <td>4</td>\n",
       "      <td>Battery</td>\n",
       "      <td>NCMN</td>\n",
       "      <td>O</td>\n",
       "    </tr>\n",
       "    <tr>\n",
       "      <th>770</th>\n",
       "      <td>770</td>\n",
       "      <td>4</td>\n",
       "      <td>Capacity</td>\n",
       "      <td>NCMN</td>\n",
       "      <td>O</td>\n",
       "    </tr>\n",
       "    <tr>\n",
       "      <th>771</th>\n",
       "      <td>771</td>\n",
       "      <td>4</td>\n",
       "      <td>3000</td>\n",
       "      <td>NCNM</td>\n",
       "      <td>O</td>\n",
       "    </tr>\n",
       "    <tr>\n",
       "      <th>772</th>\n",
       "      <td>772</td>\n",
       "      <td>4</td>\n",
       "      <td>3999</td>\n",
       "      <td>NCNM</td>\n",
       "      <td>O</td>\n",
       "    </tr>\n",
       "    <tr>\n",
       "      <th>773</th>\n",
       "      <td>773</td>\n",
       "      <td>4</td>\n",
       "      <td>mAh</td>\n",
       "      <td>CMTR</td>\n",
       "      <td>O</td>\n",
       "    </tr>\n",
       "  </tbody>\n",
       "</table>\n",
       "<p>774 rows × 5 columns</p>\n",
       "</div>"
      ],
      "text/plain": [
       "      No  idx                word   pos tag\n",
       "0      0    0  SmartphonesSAMSUNG  NCMN   O\n",
       "1      1    0              Galaxy  NCMN   O\n",
       "2      2    0                   A  NCMN   O\n",
       "3      3    0                  20  DCNM   O\n",
       "4      4    0                   s  NCMN   O\n",
       "..   ...  ...                 ...   ...  ..\n",
       "769  769    4             Battery  NCMN   O\n",
       "770  770    4            Capacity  NCMN   O\n",
       "771  771    4                3000  NCNM   O\n",
       "772  772    4                3999  NCNM   O\n",
       "773  773    4                 mAh  CMTR   O\n",
       "\n",
       "[774 rows x 5 columns]"
      ]
     },
     "execution_count": 23,
     "metadata": {},
     "output_type": "execute_result"
    }
   ],
   "source": [
    "data = df['Sheet1']\n",
    "data"
   ]
  },
  {
   "cell_type": "code",
   "execution_count": 24,
   "metadata": {},
   "outputs": [
    {
     "name": "stdout",
     "output_type": "stream",
     "text": [
      "<class 'pandas.core.frame.DataFrame'>\n",
      "RangeIndex: 774 entries, 0 to 773\n",
      "Data columns (total 5 columns):\n",
      "No      774 non-null int64\n",
      "idx     774 non-null int64\n",
      "word    774 non-null object\n",
      "pos     774 non-null object\n",
      "tag     774 non-null object\n",
      "dtypes: int64(2), object(3)\n",
      "memory usage: 30.4+ KB\n"
     ]
    }
   ],
   "source": [
    "data.info()"
   ]
  },
  {
   "cell_type": "code",
   "execution_count": 25,
   "metadata": {},
   "outputs": [],
   "source": [
    "data = data.drop('No',axis=1)"
   ]
  },
  {
   "cell_type": "code",
   "execution_count": 26,
   "metadata": {},
   "outputs": [
    {
     "data": {
      "text/plain": [
       "243"
      ]
     },
     "execution_count": 26,
     "metadata": {},
     "output_type": "execute_result"
    }
   ],
   "source": [
    "words = list(set(data[\"word\"].values))\n",
    "words.append(\"ENDPAD\")\n",
    "n_words = len(words); n_words"
   ]
  },
  {
   "cell_type": "code",
   "execution_count": 27,
   "metadata": {},
   "outputs": [
    {
     "data": {
      "text/plain": [
       "5"
      ]
     },
     "execution_count": 27,
     "metadata": {},
     "output_type": "execute_result"
    }
   ],
   "source": [
    "tags = list(set(data[\"tag\"].values))\n",
    "n_tags = len(tags); n_tags"
   ]
  },
  {
   "cell_type": "code",
   "execution_count": 28,
   "metadata": {},
   "outputs": [],
   "source": [
    "class SentenceGetter(object):\n",
    "    \n",
    "    def __init__(self, data):\n",
    "        self.n_sent = 1\n",
    "        self.data = data\n",
    "        self.empty = False\n",
    "        agg_func = lambda s: [(w, p, t) for w, p, t in zip(s[\"word\"].values.tolist(),\n",
    "                                                           s[\"pos\"].values.tolist(),\n",
    "                                                           s[\"tag\"].values.tolist())]\n",
    "        self.grouped = self.data.groupby(\"idx\").apply(agg_func)\n",
    "        self.sentences = [s for s in self.grouped]\n",
    "    \n",
    "    def get_next(self):\n",
    "        try:\n",
    "            s = self.grouped[self.n_sent]\n",
    "            self.n_sent += 1\n",
    "            return s\n",
    "        except:\n",
    "            return None"
   ]
  },
  {
   "cell_type": "code",
   "execution_count": 29,
   "metadata": {},
   "outputs": [
    {
     "name": "stdout",
     "output_type": "stream",
     "text": [
      "[('SmartphonesSamsung', 'NCMN', 'O'), ('A', 'NCMN', 'O'), ('30', 'NCNM', 'O'), ('Ram', 'PUNC', 'B-ATTR'), ('464', 'NCNM', 'B-VAL'), ('GB', 'NCMN', 'I-VAL'), ('เครื่อง', 'CNIT', 'O'), ('ศูนย์', 'DCNM', 'O'), ('ไทย', 'NPRP', 'O'), ('ประกัน', 'VSTA', 'O'), ('ศูนย์', 'DCNM', 'O'), ('1', 'DCNM', 'O'), ('ปี', 'CMTR', 'O'), ('สมาร์ท', 'CNIT', 'O'), ('โฟน', 'NCMN', 'O'), ('โทรศัพท์มือถือ', 'NCMN', 'O'), ('ระบบปฏิบัติการ', 'NCMN', 'O'), ('จอแสดงผล', 'VACT', 'B-ATTR'), ('Super', 'NCMN', 'B-VAL'), ('AMOLED', 'NCMN', 'I-VAL'), ('24', 'NCNM', 'I-VAL'), ('bit', 'CMTR', 'I-VAL'), ('16', 'DCNM', 'O'), ('ล้าน', 'CNIT', 'O'), ('สี', 'CNIT', 'O'), ('หน้าจอ', 'NCMN', 'O'), ('หยดน้ำ', 'NCMN', 'O'), ('รูป', 'NCMN', 'O'), ('ตัว', 'CNIT', 'O'), ('U', 'NCMN', 'O'), ('Infinity', 'NCMN', 'O'), ('U', 'NCMN', 'O'), ('ระบบ', 'NCMN', 'O'), ('สัมผัส', 'VACT', 'O'), ('MultiTouch', 'NCMN', 'O'), ('6.4', 'NCNM', 'I-VAL'), ('นิ้ว', 'CMTR', 'I-VAL'), ('แนว', 'NCMN', 'O'), ('ทะแยง', 'NCMN', 'O'), ('ละเอียด', 'VATT', 'O'), ('1080', 'NCNM', 'I-VAL'), ('x', 'PUNC', 'I-VAL'), ('2340', 'NCNM', 'I-VAL'), ('พิกเซล', 'DCNM', 'I-VAL'), ('Capacitive', 'NCMN', 'O'), ('ระบบ', 'NCMN', 'O'), ('เซ็นเซอร์', 'NCMN', 'O'), ('Sensor', 'NCMN', 'O'), ('ระบบ', 'NCMN', 'O'), ('ตรวจสอบ', 'VACT', 'O'), ('ลายนิ้วมือ', 'NCMN', 'O'), ('Fingerprint', 'NCMN', 'O'), ('ระบบ', 'NCMN', 'O'), ('จดจำ', 'NCMN', 'O'), ('ใบหน้า', 'NCMN', 'O'), ('Face', 'NCMN', 'O'), ('Detection', 'NCMN', 'O'), ('ระบบ', 'NCMN', 'O'), ('หมุน', 'VACT', 'O'), ('ภาพ', 'NCMN', 'O'), ('อัตโนมัติ', 'VATT', 'O'), ('Accelerometer', 'NCMN', 'O'), ('ระบบ', 'NCMN', 'O'), ('หน้าจอ', 'NCMN', 'O'), ('อัตโนมัติ', 'VATT', 'O'), ('สนทนา', 'VACT', 'O'), ('Proximity', 'NCMN', 'O'), ('ระบบปฏิบัติการ', 'NCMN', 'B-ATTR'), ('Android', 'NCMN', 'B-VAL'), ('9.0', 'DCNM', 'I-VAL'), ('Pie', 'NCMN', 'O'), ('หน่วย', 'CNIT', 'B-ATTR'), ('ประมวลผล', 'VACT', 'I-ATTR'), ('Exynos', 'NCMN', 'B-VAL'), ('7904', 'NCMN', 'I-VAL'), ('Octa', 'NCMN', 'I-VAL'), ('Core', 'NCMN', 'I-VAL'), ('ความเร็ว', 'NCMN', 'I-VAL'), ('1.8', 'NCNM', 'I-VAL'), ('GHz', 'NCMN', 'I-VAL'), ('หน่วยความจำ', 'NCMN', 'B-ATTR'), ('3264', 'NCNM', 'B-VAL'), ('GB', 'NCMN', 'I-VAL'), ('ตัว', 'CNIT', 'O'), ('เครื่อง', 'NCMN', 'O'), ('RAM', 'NCMN', 'B-ATTR'), ('34', 'NCNM', 'B-VAL'), ('GB', 'NCMN', 'I-VAL'), ('การ์ด', 'CNIT', 'O'), ('หน่วยความจำ', 'NCMN', 'B-ATTR'), ('microSD', 'NCMN', 'B-VAL'), ('512', 'DCNM', 'I-VAL'), ('GB', 'NCMN', 'I-VAL'), ('กล้อง', 'CMTR', 'B-ATTR'), ('ดิจิตอล', 'NCMN', 'I-ATTR'), ('16', 'DCNM', 'B-VAL'), ('5', 'DCNM', 'I-VAL'), ('ล้าน', 'CNIT', 'I-VAL'), ('พิกเซล', 'CNIT', 'I-VAL'), ('Dual', 'NCMN', 'O'), ('Camera', 'NCMN', 'O'), ('รู', 'NCMN', 'O'), ('แสง', 'NCMN', 'O'), ('ขนาด', 'NCMN', 'O'), ('1.7', 'DCNM', 'O'), ('ไฟ', 'NCMN', 'O'), ('แฟลช', 'CNIT', 'O'), ('LED', 'NCMN', 'O'), ('โฟกัส', 'NCMN', 'O'), ('อัตโนมัติ', 'VATT', 'O'), ('Auto', 'NCMN', 'O'), ('Focus', 'NCMN', 'O'), ('แตะ', 'VACT', 'O'), ('เลือก', 'VACT', 'O'), ('จุดโฟกัส', 'NCMN', 'O'), ('Touch', 'NCMN', 'O'), ('Focus', 'NCMN', 'O'), ('ค้นหา', 'VACT', 'O'), ('ใบหน้า', 'NCMN', 'O'), ('อัตโนมัติ', 'VATT', 'O'), ('Face', 'NCMN', 'O'), ('Detection', 'NCMN', 'O'), ('โหมด', 'NCMN', 'O'), ('ถ่ายภาพ', 'NCMN', 'O'), ('โนรา', 'NCMN', 'O'), ('ม่า', 'NCMN', 'O'), ('Panorama', 'NCMN', 'O'), ('โหมด', 'NCMN', 'O'), ('ถ่ายภาพ', 'NCMN', 'O'), ('แสง', 'NCMN', 'O'), ('HDR', 'NCMN', 'O'), ('กล้อง', 'NCMN', 'B-ATTR'), ('หน้า', 'VATT', 'I-ATTR'), ('Front', 'NCMN', 'O'), ('Camera', 'NCMN', 'O'), ('ละเอียด', 'VATT', 'I-ATTR'), ('16', 'DCNM', 'B-VAL'), ('MP', 'CMTR', 'I-VAL'), ('รู', 'CNIT', 'O'), ('แสง', 'NCMN', 'O'), ('ขนาด', 'NCMN', 'O'), ('2.0', 'NCNM', 'O'), ('บันทึก', 'VACT', 'O'), ('วีดีโอ', 'NCMN', 'O'), ('ภาพเคลื่อนไหว', 'NCMN', 'O'), ('Video', 'NCMN', 'O'), ('Recording', 'NCMN', 'O'), ('รูปแบบ', 'NCMN', 'O'), ('ไฟล์', 'NCMN', 'O'), ('วีดีโอ', 'NCMN', 'O'), ('MPEG', 'NCMN', 'O'), ('4', 'NCNM', 'O'), ('เครื่องเล่น', 'VACT', 'O'), ('วีดีโอ', 'NCMN', 'O'), ('Video', 'NCMN', 'O'), ('Player', 'NCMN', 'O'), ('รูปแบบ', 'NCMN', 'O'), ('ไฟล์', 'NCMN', 'O'), ('MPEG', 'NCMN', 'O'), ('4', 'NCNM', 'O'), ('รองรับ', 'RPRE', 'O'), ('วีดีโอ', 'NCMN', 'O'), ('YouTube', 'NCMN', 'O'), ('เครื่องเล่น', 'VACT', 'O'), ('เพลง', 'NCMN', 'O'), ('Music', 'NCMN', 'O'), ('Player', 'NCMN', 'O'), ('รูปแบบ', 'NCMN', 'O'), ('ไฟล์', 'NCMN', 'O'), ('MP', 'NCMN', 'O'), ('3', 'NCNM', 'O'), ('เทคโนโลยี', 'NCMN', 'O'), ('ความเร็ว', 'CLTV', 'O'), ('ชาร์จ', 'VACT', 'O'), ('แบตเตอรี่', 'NCMN', 'B-ATTR'), ('มาตรฐาน', 'NCMN', 'O'), ('4000', 'NCNM', 'B-VAL'), ('mAh', 'NCMN', 'I-VAL'), ('Standard', 'NCMN', 'O'), ('Battery', 'NCMN', 'O'), ('แบรนด์', 'NCMN', 'B-ATTR'), ('ซัมซุง', 'NCMN', 'B-VAL'), ('ประเภท', 'CLTV', 'O'), ('การรับประกัน', 'ADVN', 'O'), ('การรับประกัน', 'ADVN', 'O'), ('โรงงาน', 'NCMN', 'O'), ('ในประเทศ', 'NCMN', 'O'), ('กล้อง', 'NCMN', 'O'), ('หน้า', 'VATT', 'O'), ('เมกะ', 'NCMN', 'O'), ('พิกเซล', 'NCMN', 'O'), ('16', 'NCNM', 'O'), ('MPModel', 'NCMN', 'O'), ('Samsung', 'NCMN', 'O'), ('A', 'NCMN', 'O'), ('30', 'NCNM', 'O'), ('Ram', 'PUNC', 'B-ATTR'), ('464', 'NCNM', 'B-VAL'), ('GB', 'NCMN', 'I-VAL'), ('เครื่อง', 'CNIT', 'O'), ('ศูนย์', 'DCNM', 'O'), ('ไทย', 'NPRP', 'O'), ('ประกัน', 'VSTA', 'O'), ('ศูนย์', 'DCNM', 'O'), ('1', 'DCNM', 'O'), ('ปี', 'CMTR', 'O'), ('กล้อง', 'NCMN', 'B-ATTR'), ('ด้านหลัง', 'XVBM', 'I-ATTR'), ('1620', 'NCNM', 'B-VAL'), ('MP', 'NCMN', 'I-VAL'), ('ระยะเวลา', 'NCMN', 'B-ATTR'), ('การรับประกัน', 'ADVN', 'I-ATTR'), ('1', 'DCNM', 'B-VAL'), ('ปี', 'CMTR', 'I-VAL'), ('Battery', 'NCMN', 'B-ATTR'), ('Capacity', 'NCMN', 'I-ATTR'), ('4000', 'NCNM', 'B-VAL'), ('4999', 'NCNM', 'I-VAL'), ('mAh', 'CMTR', 'I-VAL')]\n"
     ]
    }
   ],
   "source": [
    "getter = SentenceGetter(data)\n",
    "sent = getter.get_next()\n",
    "print(sent)"
   ]
  },
  {
   "cell_type": "code",
   "execution_count": 30,
   "metadata": {},
   "outputs": [],
   "source": [
    "sentences = getter.sentences"
   ]
  },
  {
   "cell_type": "code",
   "execution_count": 31,
   "metadata": {},
   "outputs": [],
   "source": [
    "max_len = 75\n",
    "word2idx = {w: i + 1 for i, w in enumerate(words)}\n",
    "tag2idx = {t: i for i, t in enumerate(tags)}"
   ]
  },
  {
   "cell_type": "code",
   "execution_count": 32,
   "metadata": {},
   "outputs": [],
   "source": [
    "from keras.preprocessing.sequence import pad_sequences\n",
    "\n",
    "X = [[word2idx[w[0]] for w in s] for s in sentences]\n",
    "X = pad_sequences(maxlen=max_len, sequences=X, padding=\"post\", value=n_words-1)\n",
    "\n",
    "y = [[tag2idx[w[2]] for w in s] for s in sentences]\n",
    "y = pad_sequences(maxlen=max_len, sequences=y, padding=\"post\", value=tag2idx[\"O\"])\n",
    "\n",
    "y = [to_categorical(i, num_classes=n_tags) for i in y]"
   ]
  },
  {
   "cell_type": "code",
   "execution_count": 33,
   "metadata": {},
   "outputs": [],
   "source": [
    "# Split data into train and test set\n",
    "X_tr, X_te, y_tr, y_te = train_test_split(X, y, test_size=0.1)"
   ]
  },
  {
   "cell_type": "code",
   "execution_count": 48,
   "metadata": {},
   "outputs": [],
   "source": [
    "from keras.models import Model, Input\n",
    "from keras.layers import LSTM, Embedding, Dense, TimeDistributed, Dropout, Bidirectional\n",
    "from keras_contrib.layers import CRF\n",
    "\n",
    "\n",
    "x = layers.Input(shape=(max_len,))\n",
    "model = Embedding(input_dim=n_words + 1, output_dim=20,\n",
    "                  input_length=max_len)(x)  # 20-dim embedding\n",
    "model = Bidirectional(LSTM(units=32, return_sequences=True,\n",
    "                           recurrent_dropout=0.1))(model)  # variational biLSTM\n",
    "model = TimeDistributed(Dense(32, activation=\"relu\"))(model)  # a dense layer as suggested by neuralNer\n",
    "crf = CRF(n_tags)  # CRF layer\n",
    "out = crf(model)  # output\n",
    "\n",
    "model = Model(x, out)"
   ]
  },
  {
   "cell_type": "code",
   "execution_count": 49,
   "metadata": {},
   "outputs": [
    {
     "name": "stderr",
     "output_type": "stream",
     "text": [
      "C:\\Users\\super\\Anaconda3\\envs\\tensorflow-gpu\\lib\\site-packages\\keras_contrib\\layers\\crf.py:346: UserWarning: CRF.loss_function is deprecated and it might be removed in the future. Please use losses.crf_loss instead.\n",
      "  warnings.warn('CRF.loss_function is deprecated '\n",
      "C:\\Users\\super\\Anaconda3\\envs\\tensorflow-gpu\\lib\\site-packages\\keras_contrib\\layers\\crf.py:353: UserWarning: CRF.accuracy is deprecated and it might be removed in the future. Please use metrics.crf_accuracy\n",
      "  warnings.warn('CRF.accuracy is deprecated and it '\n"
     ]
    },
    {
     "name": "stdout",
     "output_type": "stream",
     "text": [
      "Model: \"model_2\"\n",
      "_________________________________________________________________\n",
      "Layer (type)                 Output Shape              Param #   \n",
      "=================================================================\n",
      "input_8 (InputLayer)         (None, 75)                0         \n",
      "_________________________________________________________________\n",
      "embedding_6 (Embedding)      (None, 75, 20)            4880      \n",
      "_________________________________________________________________\n",
      "bidirectional_3 (Bidirection (None, 75, 64)            13568     \n",
      "_________________________________________________________________\n",
      "time_distributed_3 (TimeDist (None, 75, 32)            2080      \n",
      "_________________________________________________________________\n",
      "crf_5 (CRF)                  (None, 75, 5)             200       \n",
      "=================================================================\n",
      "Total params: 20,728\n",
      "Trainable params: 20,728\n",
      "Non-trainable params: 0\n",
      "_________________________________________________________________\n"
     ]
    }
   ],
   "source": [
    "model.compile(optimizer=\"adam\", loss=crf.loss_function, metrics=[crf.accuracy])\n",
    "model.summary()"
   ]
  },
  {
   "cell_type": "code",
   "execution_count": 50,
   "metadata": {},
   "outputs": [
    {
     "name": "stderr",
     "output_type": "stream",
     "text": [
      "C:\\Users\\super\\Anaconda3\\envs\\tensorflow-gpu\\lib\\site-packages\\tensorflow_core\\python\\framework\\indexed_slices.py:424: UserWarning: Converting sparse IndexedSlices to a dense Tensor of unknown shape. This may consume a large amount of memory.\n",
      "  \"Converting sparse IndexedSlices to a dense Tensor of unknown shape. \"\n"
     ]
    },
    {
     "name": "stdout",
     "output_type": "stream",
     "text": [
      "Train on 3 samples, validate on 1 samples\n",
      "Epoch 1/5\n",
      "3/3 [==============================] - 2s 626ms/step - loss: 1.1930 - crf_viterbi_accuracy: 0.6222 - val_loss: 0.9189 - val_crf_viterbi_accuracy: 0.8667\n",
      "Epoch 2/5\n",
      "3/3 [==============================] - 0s 142ms/step - loss: 1.1880 - crf_viterbi_accuracy: 0.6222 - val_loss: 0.9113 - val_crf_viterbi_accuracy: 0.8667\n",
      "Epoch 3/5\n",
      "3/3 [==============================] - 0s 142ms/step - loss: 1.1828 - crf_viterbi_accuracy: 0.6222 - val_loss: 0.9031 - val_crf_viterbi_accuracy: 0.8667\n",
      "Epoch 4/5\n",
      "3/3 [==============================] - 0s 139ms/step - loss: 1.1773 - crf_viterbi_accuracy: 0.6222 - val_loss: 0.8944 - val_crf_viterbi_accuracy: 0.8667\n",
      "Epoch 5/5\n",
      "3/3 [==============================] - 0s 144ms/step - loss: 1.1708 - crf_viterbi_accuracy: 0.6222 - val_loss: 0.8849 - val_crf_viterbi_accuracy: 0.8667\n"
     ]
    }
   ],
   "source": [
    "history = model.fit(X_tr, np.array(y_tr), batch_size=32, epochs=5,\n",
    "                    validation_split=0.1, verbose=1)"
   ]
  },
  {
   "cell_type": "code",
   "execution_count": 52,
   "metadata": {},
   "outputs": [],
   "source": [
    "def plot_history(history):\n",
    "    \n",
    "    f, ax = plt.subplots(1, 2, figsize = (16, 7))\n",
    "    \n",
    "    acc = history.history['crf_viterbi_accuracy']\n",
    "    val_acc = history.history['val_crf_viterbi_accuracy']\n",
    "    loss = history.history['loss']\n",
    "    val_loss = history.history['val_loss']\n",
    "\n",
    "    epochs = range(1, len(acc) + 1)\n",
    "\n",
    "    plt.sca(ax[0])\n",
    "    plt.plot(epochs, acc, 'bo', label='Training acc')\n",
    "    plt.plot(epochs, val_acc, 'b', label='Validation acc')\n",
    "    plt.title('Training and validation accuracy')\n",
    "    plt.legend()\n",
    "\n",
    "    plt.sca(ax[1])\n",
    "    plt.plot(epochs, loss, 'bo', label='Training loss')\n",
    "    plt.plot(epochs, val_loss, 'b', label='Validation loss')\n",
    "    plt.title('Training and validation loss')\n",
    "    plt.legend()\n",
    "\n",
    "    plt.show()"
   ]
  },
  {
   "cell_type": "code",
   "execution_count": 53,
   "metadata": {},
   "outputs": [
    {
     "data": {
      "image/png": "[encoded data removed]",
      "text/plain": [
       "<Figure size 1152x504 with 2 Axes>"
      ]
     },
     "metadata": {
      "needs_background": "light"
     },
     "output_type": "display_data"
    }
   ],
   "source": [
    "plot_history(history)"
   ]
  },
  {
   "cell_type": "code",
   "execution_count": 54,
   "metadata": {},
   "outputs": [
    {
     "name": "stdout",
     "output_type": "stream",
     "text": [
      "\r",
      "1/1 [==============================] - 0s 345ms/step\n"
     ]
    }
   ],
   "source": [
    "from seqeval.metrics import precision_score, recall_score, f1_score, classification_report\n",
    "\n",
    "test_pred = model.predict(X_te, verbose=1)\n"
   ]
  },
  {
   "cell_type": "code",
   "execution_count": 55,
   "metadata": {},
   "outputs": [],
   "source": [
    "idx2tag = {i: w for w, i in tag2idx.items()}\n",
    "\n",
    "def pred2label(pred):\n",
    "    out = []\n",
    "    for pred_i in pred:\n",
    "        out_i = []\n",
    "        for p in pred_i:\n",
    "            p_i = np.argmax(p)\n",
    "            out_i.append(idx2tag[p_i].replace(\"PAD\", \"O\"))\n",
    "        out.append(out_i)\n",
    "    return out\n",
    "    \n",
    "pred_labels = pred2label(test_pred)\n",
    "test_labels = pred2label(y_te)"
   ]
  },
  {
   "cell_type": "code",
   "execution_count": 56,
   "metadata": {},
   "outputs": [
    {
     "name": "stdout",
     "output_type": "stream",
     "text": [
      "F1-score: 0.0%\n",
      "           precision    recall  f1-score   support\n",
      "\n",
      "     ATTR       0.00      0.00      0.00         8\n",
      "      VAL       0.00      0.00      0.00         8\n",
      "\n",
      "micro avg       0.00      0.00      0.00        16\n",
      "macro avg       0.00      0.00      0.00        16\n",
      "\n"
     ]
    }
   ],
   "source": [
    "print(\"F1-score: {:.1%}\".format(f1_score(test_labels, pred_labels)))\n",
    "print(classification_report(test_labels, pred_labels))"
   ]
  },
  {
   "cell_type": "code",
   "execution_count": 57,
   "metadata": {},
   "outputs": [
    {
     "name": "stdout",
     "output_type": "stream",
     "text": [
      "word           ||True ||Pred\n",
      "==============================\n",
      "ล็อค           : O     O\n",
      "สแกน           : O     O\n",
      "ใบหน้า         : O     O\n",
      "รองรับ         : O     O\n",
      "2              : O     O\n",
      "SIM            : O     O\n",
      "พอร์ท          : O     O\n",
      "MicroUSB       : O     O\n",
      "แบตเตอรี่      : B-ATTR O\n",
      "3400           : B-VAL O\n",
      "mAh            : I-VAL O\n",
      "ระบบ           : B-ATTR O\n",
      "Android        : B-VAL O\n",
      "9.0            : I-VAL O\n",
      "One            : O     O\n",
      "UI             : O     O\n",
      "ขนาด           : B-ATTR O\n",
      "ตัว            : I-ATTR O\n",
      "เครื่อง        : I-ATTR O\n",
      "155.6          : B-VAL O\n",
      "x              : I-VAL O\n",
      "75.6           : I-VAL O\n",
      "x              : I-VAL O\n",
      "7.94           : I-VAL O\n",
      "มม.            : I-VAL O\n",
      "สี             : O     O\n",
      "วาง            : O     O\n",
      "จำหน่าย        : O     O\n",
      "สีแดง          : O     O\n",
      "น้ำเงิน        : O     O\n",
      "ดำ             : O     O\n",
      "แบรนด์         : B-ATTR O\n",
      "ซัมซุง         : B-VAL O\n",
      "ประเภท         : O     O\n",
      "การรับประกัน   : O     O\n",
      "การรับประกัน   : O     O\n",
      "โรงงาน         : O     O\n",
      "ในประเทศ       : O     O\n",
      "กล้อง          : O     O\n",
      "หน้า           : O     O\n",
      "เมกะ           : O     O\n",
      "พิกเซล         : O     O\n",
      "56             : O     O\n",
      "MPModel        : O     O\n",
      "Samsung        : O     O\n",
      "Galaxy         : O     O\n",
      "A              : O     O\n",
      "10             : O     O\n",
      "Ram            : O     O\n",
      "232            : O     O\n",
      "GB             : O     O\n",
      "จอ             : B-ATTR O\n",
      "6.2            : B-VAL O\n",
      "นิ้ว           : I-VAL O\n",
      "แบต            : B-ATTR O\n",
      "อึด            : O     O\n",
      "3400           : B-VAL O\n",
      "mAh            : I-VAL O\n",
      "เครื่อง        : O     O\n",
      "ศูนย์          : O     O\n",
      "ประกัน         : O     O\n",
      "ศูนย์          : O     O\n",
      "กล้อง          : B-ATTR O\n",
      "ด้านหลัง       : I-ATTR O\n",
      "1115           : B-VAL O\n",
      "MP             : I-VAL O\n",
      "ระยะเวลา       : B-ATTR O\n",
      "การรับประกัน   : I-ATTR O\n",
      "1              : B-VAL O\n",
      "ปี             : I-VAL O\n",
      "Battery        : O     O\n",
      "Capacity       : O     O\n",
      "3000           : O     O\n",
      "3999           : O     O\n",
      "mAh            : O     O\n"
     ]
    }
   ],
   "source": [
    "i = 0\n",
    "p = model.predict(np.array([X_te[i]]))\n",
    "p = np.argmax(p, axis=-1)\n",
    "true = np.argmax(y_te[i], -1)\n",
    "print(\"{:15}||{:5}||{}\".format(\"word\", \"True\", \"Pred\"))\n",
    "print(30 * \"=\")\n",
    "for w, t, pred in zip(X_te[i], true, p[0]):\n",
    "    if w != 0:\n",
    "        print(\"{:15}: {:5} {}\".format(words[w-1], tags[t], tags[pred]))"
   ]
  },
  {
   "cell_type": "code",
   "execution_count": null,
   "metadata": {},
   "outputs": [],
   "source": []
  }
 ],
 "metadata": {
  "kernelspec": {
   "display_name": "Python 3",
   "language": "python",
   "name": "python3"
  },
  "language_info": {
   "codemirror_mode": {
    "name": "ipython",
    "version": 3
   },
   "file_extension": ".py",
   "mimetype": "text/x-python",
   "name": "python",
   "nbconvert_exporter": "python",
   "pygments_lexer": "ipython3",
   "version": "3.7.4"
  }
 },
 "nbformat": 4,
 "nbformat_minor": 2
}
