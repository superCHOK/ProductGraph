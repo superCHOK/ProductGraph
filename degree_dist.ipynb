{
 "cells": [
  {
   "cell_type": "code",
   "execution_count": 1,
   "metadata": {},
   "outputs": [],
   "source": [
    "from py2neo import Graph, Node, Relationship\n",
    "import pandas as pd\n",
    "import matplotlib.pyplot as plt\n",
    "import seaborn as sns\n",
    "\n",
    "gdb = Graph(user='neo4j', password='naiin')\n",
    "\n",
    "q = \"\"\"\n",
    "MATCH (u:Product) RETURN u.name AS name, size((u)-[]->(:Attribute)) AS degree\n",
    "\"\"\"\n",
    "res = gdb.run(q)\n",
    "NodeDegree = pd.DataFrame(res)"
   ]
  },
  {
   "cell_type": "code",
   "execution_count": 2,
   "metadata": {},
   "outputs": [],
   "source": [
    "NodeDegree = NodeDegree.rename(columns={0: \"name\", 1: \"degree\"})"
   ]
  },
  {
   "cell_type": "code",
   "execution_count": 3,
   "metadata": {},
   "outputs": [
    {
     "data": {
      "text/html": [
       "<div>\n",
       "<style scoped>\n",
       "    .dataframe tbody tr th:only-of-type {\n",
       "        vertical-align: middle;\n",
       "    }\n",
       "\n",
       "    .dataframe tbody tr th {\n",
       "        vertical-align: top;\n",
       "    }\n",
       "\n",
       "    .dataframe thead th {\n",
       "        text-align: right;\n",
       "    }\n",
       "</style>\n",
       "<table border=\"1\" class=\"dataframe\">\n",
       "  <thead>\n",
       "    <tr style=\"text-align: right;\">\n",
       "      <th></th>\n",
       "      <th>name</th>\n",
       "      <th>degree</th>\n",
       "    </tr>\n",
       "  </thead>\n",
       "  <tbody>\n",
       "    <tr>\n",
       "      <td>0</td>\n",
       "      <td>Box set แฮร์รี่ พอตเตอร์ ฉบับครบรอบ 20ปี (ปกแข็ง)</td>\n",
       "      <td>6</td>\n",
       "    </tr>\n",
       "    <tr>\n",
       "      <td>1</td>\n",
       "      <td>แพ็กชุด แฮร์รี่ พอตเตอร์ ฉบับครบรอบ 20ปี (ปกอ่อน)</td>\n",
       "      <td>6</td>\n",
       "    </tr>\n",
       "    <tr>\n",
       "      <td>2</td>\n",
       "      <td>แฮร์รี่พอตเตอร์กับภาคีนกฟีนิกซ์ล.5 20ปี</td>\n",
       "      <td>6</td>\n",
       "    </tr>\n",
       "    <tr>\n",
       "      <td>3</td>\n",
       "      <td>แฮร์รี่พอตเตอร์กับเจ้าชายเลือดผสมล.6 20ป</td>\n",
       "      <td>6</td>\n",
       "    </tr>\n",
       "    <tr>\n",
       "      <td>4</td>\n",
       "      <td>แฮร์รี่พอตเตอร์กับห้องแห่งความลับ ล2 20ป</td>\n",
       "      <td>6</td>\n",
       "    </tr>\n",
       "  </tbody>\n",
       "</table>\n",
       "</div>"
      ],
      "text/plain": [
       "                                                name  degree\n",
       "0  Box set แฮร์รี่ พอตเตอร์ ฉบับครบรอบ 20ปี (ปกแข็ง)       6\n",
       "1  แพ็กชุด แฮร์รี่ พอตเตอร์ ฉบับครบรอบ 20ปี (ปกอ่อน)       6\n",
       "2            แฮร์รี่พอตเตอร์กับภาคีนกฟีนิกซ์ล.5 20ปี       6\n",
       "3           แฮร์รี่พอตเตอร์กับเจ้าชายเลือดผสมล.6 20ป       6\n",
       "4           แฮร์รี่พอตเตอร์กับห้องแห่งความลับ ล2 20ป       6"
      ]
     },
     "execution_count": 3,
     "metadata": {},
     "output_type": "execute_result"
    }
   ],
   "source": [
    "NodeDegree.head()"
   ]
  },
  {
   "cell_type": "code",
   "execution_count": 4,
   "metadata": {},
   "outputs": [],
   "source": [
    "def plot_degree_dist(degree):\n",
    "    # matplotlib histogram\n",
    "    plt.hist(degree['degree'], color = 'blue', edgecolor = 'black',\n",
    "         bins = int(180/10))\n",
    "\n",
    "    # seaborn histogram\n",
    "    sns.distplot(degree['degree'], hist=True, kde=False, \n",
    "             bins=int(180/10), color = 'blue',\n",
    "             hist_kws={'edgecolor':'black'})\n",
    "    # Add labels\n",
    "    plt.title('Histogram of degree')\n",
    "    plt.xlabel('Degree')\n",
    "    plt.ylabel('Count')"
   ]
  },
  {
   "cell_type": "code",
   "execution_count": 5,
   "metadata": {},
   "outputs": [],
   "source": [
    "def plot_dist(degree):\n",
    "    # Density Plot and Histogram of all arrival delays\n",
    "    sns.distplot(degree['degree'], hist=True, kde=True, \n",
    "             bins=int(180/5), color = 'darkblue', \n",
    "             hist_kws={'edgecolor':'black'},\n",
    "             kde_kws={'linewidth': 2})\n",
    "    # Add labels\n",
    "    plt.title('Density and Histogram of degree')\n",
    "    plt.xlabel('Degree')\n",
    "    plt.ylabel('Density')"
   ]
  },
  {
   "cell_type": "code",
   "execution_count": 6,
   "metadata": {},
   "outputs": [
    {
     "data": {
      "image/png": "[encoded data removed]",
      "text/plain": [
       "<Figure size 432x288 with 1 Axes>"
      ]
     },
     "metadata": {
      "needs_background": "light"
     },
     "output_type": "display_data"
    }
   ],
   "source": [
    "plot_dist(NodeDegree)"
   ]
  },
  {
   "cell_type": "code",
   "execution_count": 8,
   "metadata": {},
   "outputs": [],
   "source": [
    "q = \"\"\"\n",
    "MATCH (u:jib) RETURN u.name AS name, size((u)-[]->(:Attribute)) AS degree\n",
    "\"\"\"\n",
    "res = gdb.run(q)\n",
    "NodeDegree_jib = pd.DataFrame(res)\n",
    "NodeDegree_jib = NodeDegree_jib.rename(columns={0: \"name\", 1: \"degree\"})"
   ]
  },
  {
   "cell_type": "code",
   "execution_count": 9,
   "metadata": {},
   "outputs": [
    {
     "data": {
      "image/png": "[encoded data removed]",
      "text/plain": [
       "<Figure size 432x288 with 1 Axes>"
      ]
     },
     "metadata": {
      "needs_background": "light"
     },
     "output_type": "display_data"
    }
   ],
   "source": [
    "plot_dist(NodeDegree_jib)"
   ]
  },
  {
   "cell_type": "code",
   "execution_count": 7,
   "metadata": {},
   "outputs": [
    {
     "data": {
      "image/png": "[encoded data removed]",
      "text/plain": [
       "<Figure size 432x288 with 1 Axes>"
      ]
     },
     "metadata": {
      "needs_background": "light"
     },
     "output_type": "display_data"
    }
   ],
   "source": [
    "plot_degree_dist(NodeDegree)"
   ]
  },
  {
   "cell_type": "code",
   "execution_count": null,
   "metadata": {},
   "outputs": [],
   "source": []
  }
 ],
 "metadata": {
  "kernelspec": {
   "display_name": "Python 3",
   "language": "python",
   "name": "python3"
  },
  "language_info": {
   "codemirror_mode": {
    "name": "ipython",
    "version": 3
   },
   "file_extension": ".py",
   "mimetype": "text/x-python",
   "name": "python",
   "nbconvert_exporter": "python",
   "pygments_lexer": "ipython3",
   "version": "3.7.4"
  }
 },
 "nbformat": 4,
 "nbformat_minor": 4
}
