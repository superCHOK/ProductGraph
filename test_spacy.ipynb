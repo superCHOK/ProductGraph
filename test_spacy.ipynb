{
 "cells": [
  {
   "cell_type": "code",
   "execution_count": null,
   "metadata": {},
   "outputs": [],
   "source": []
  },
  {
   "cell_type": "code",
   "execution_count": null,
   "metadata": {},
   "outputs": [],
   "source": [
    "Train_data = [\n",
    "    ( \n",
    "        \"ASUS NOTEBOOK X407UF-BV047T / X407UF-BV048T 14 HD / i5-8250U / MX130 / 4G / SSD 256GB / Win10 / 2YCPU : INTEL CORE I5-8250URAM : 4 GB DDR4HDD : 256 GB SSDDISPLAY : 14 HDVGA : GEFORCE MX130 2 GB GDDR5Windows10 Home แท้ พร้อมใช้งานรับประกัน 2 ปีแบรนด์ ASUSSKU 297664470_TH-509140957ประเภทของการรับประกัน การรับประกันจากโรงงานในประเทศรุ่น X407UF-BV047T / X407UF-BV048Tประเภทหน่วยประมวลผล Intel Core i5-8250Uระยะเวลาการรับประกัน 2 ปี\", entities : {\n",
    "                [(0,4, \"brand\"), (start,end, \"TAG 2\"), (start,end, \"TAG 3\")]\n",
    "                }\n",
    "    ),( \n",
    "        \"Free Text 2\", entities : {\n",
    "             [(start,end, \"TAG 1\"), (start,end,\"TAG 2\")]\n",
    "             }\n",
    "    ),(\n",
    "        \"Free Text 3\", entities : {\n",
    "            [(start,end, \"TAG 1\"), (start,end, \"TAG 2\"), \n",
    "            (start,end,\"TAG 3\"),(start,end, \"TAG 4 \")]\n",
    "            }\n",
    "    )\n",
    "]"
   ]
  }
 ],
 "metadata": {
  "kernelspec": {
   "display_name": "Python 3",
   "language": "python",
   "name": "python3"
  },
  "language_info": {
   "codemirror_mode": {
    "name": "ipython",
    "version": 3
   },
   "file_extension": ".py",
   "mimetype": "text/x-python",
   "name": "python",
   "nbconvert_exporter": "python",
   "pygments_lexer": "ipython3",
   "version": "3.7.4"
  }
 },
 "nbformat": 4,
 "nbformat_minor": 2
}
