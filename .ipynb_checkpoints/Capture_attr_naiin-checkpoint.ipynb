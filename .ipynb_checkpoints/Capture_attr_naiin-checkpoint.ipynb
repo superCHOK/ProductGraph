{
 "cells": [
  {
   "cell_type": "code",
   "execution_count": 27,
   "metadata": {},
   "outputs": [],
   "source": [
    "import pandas as pd\n",
    "import csv\n",
    "import re\n",
    "import string\n",
    "import nltk\n",
    "\n",
    "from pythainlp.tokenize import Tokenizer\n",
    "from pythainlp import word_tokenize\n",
    "from pythainlp.corpus import thai_stopwords\n",
    "from pythainlp.tokenize import dict_trie\n",
    "from pythainlp.tag import pos_tag\n",
    "\n",
    "from nltk.corpus import words\n",
    "from stop_words import get_stop_words"
   ]
  },
  {
   "cell_type": "markdown",
   "metadata": {},
   "source": [
    "# Processing text function"
   ]
  },
  {
   "cell_type": "code",
   "execution_count": 28,
   "metadata": {},
   "outputs": [
    {
     "name": "stderr",
     "output_type": "stream",
     "text": [
      "[nltk_data] Downloading package words to\n",
      "[nltk_data]     C:\\Users\\super\\AppData\\Roaming\\nltk_data...\n",
      "[nltk_data]   Package words is already up-to-date!\n"
     ]
    }
   ],
   "source": [
    "# word correction for EN\n",
    "#parser = GingerIt()\n",
    "\n",
    "# download stopwords of TH and EN\n",
    "nltk.download('words')\n",
    "th_stop = tuple(thai_stopwords())\n",
    "en_stop = tuple(get_stop_words('en'))\n",
    "\n",
    "# clean the text\n",
    "def clean_text(msg): \n",
    "\n",
    "    msg = str(msg).lower()\n",
    "    msg = re.sub(r\"\\,\", \"\", str(msg))\n",
    "    msg = re.sub(r\"[^a-z0-9ก-๙\\.\\%\\:]\", \" \", str(msg))\n",
    "    \n",
    "    # Delete punctuation\n",
    "   # str_punc = string.punctuation.replace(\".\",\"\")\n",
    "   # for c in str_punc:\n",
    "    #    msg = re.sub(r'\\{}'.format(c),'',str(msg))\n",
    "    \n",
    "    # ลบ separator เช่น \\n \\t\n",
    "    msg = ' '.join(msg.split())\n",
    "    \n",
    "    return msg"
   ]
  },
  {
   "cell_type": "markdown",
   "metadata": {},
   "source": [
    "# Load data"
   ]
  },
  {
   "cell_type": "code",
   "execution_count": 29,
   "metadata": {},
   "outputs": [],
   "source": [
    "# input\n",
    "# import data from csv\n",
    "file_name = 'naiin_full_data'\n",
    "\n",
    "FILE = './Data/{}.csv'.format(file_name)\n",
    "df = pd.read_csv(FILE,index_col=0)"
   ]
  },
  {
   "cell_type": "code",
   "execution_count": 30,
   "metadata": {},
   "outputs": [],
   "source": [
    "# Drop column that have any \"Na\"\n",
    "data = df.dropna(axis=1, how='any')"
   ]
  },
  {
   "cell_type": "code",
   "execution_count": 31,
   "metadata": {},
   "outputs": [
    {
     "data": {
      "text/html": [
       "<div>\n",
       "<style scoped>\n",
       "    .dataframe tbody tr th:only-of-type {\n",
       "        vertical-align: middle;\n",
       "    }\n",
       "\n",
       "    .dataframe tbody tr th {\n",
       "        vertical-align: top;\n",
       "    }\n",
       "\n",
       "    .dataframe thead th {\n",
       "        text-align: right;\n",
       "    }\n",
       "</style>\n",
       "<table border=\"1\" class=\"dataframe\">\n",
       "  <thead>\n",
       "    <tr style=\"text-align: right;\">\n",
       "      <th></th>\n",
       "      <th>Box set แฮร์รี่ พอตเตอร์ ฉบับครบรอบ 20ปี (ปกแข็ง)</th>\n",
       "      <th>แพ็กชุด แฮร์รี่ พอตเตอร์ ฉบับครบรอบ 20ปี (ปกอ่อน)</th>\n",
       "      <th>แฮร์รี่พอตเตอร์กับภาคีนกฟีนิกซ์ล.5 20ปี</th>\n",
       "      <th>แฮร์รี่พอตเตอร์กับเจ้าชายเลือดผสมล.6 20ป</th>\n",
       "      <th>แฮร์รี่พอตเตอร์กับห้องแห่งความลับ ล2 20ป</th>\n",
       "      <th>แฮร์รี่ พอตเตอร์กับศิลาอาถรรพ์ ล.1 20ปี</th>\n",
       "      <th>แฮร์รี่พอตเตอร์กับนักโทษแห่งอัซคาบันล.3</th>\n",
       "      <th>แฮร์รี่พอตเตอร์กับเครื่องรางยมทูตล.7 20ป</th>\n",
       "      <th>แฮร์รี่พอตเตอร์กับถ้วยอัคนี ล.4  20ปี</th>\n",
       "      <th>คนใจดำ</th>\n",
       "      <th>...</th>\n",
       "      <th>เย็นสบายชายนํ้า (ใหม่ล่าสุด).1</th>\n",
       "      <th>สิงคโปร์สัญจร (ใหม่ล่าสุด).1</th>\n",
       "      <th>โรมันสัญจร (ใหม่ล่าสุด).1</th>\n",
       "      <th>Kaew the Naughty(แก้วจอมซน/ภาษาอังกฤษ).1</th>\n",
       "      <th>ใต้เมฆที่เมฆใต้ (ใหม่ล่าสุด).1</th>\n",
       "      <th>ชุดพระมหาชนกและหนังสือทองแดง.1</th>\n",
       "      <th>เยือนถิ่นจีนโพ้นทะเล (ใหม่ล่าสุด).1</th>\n",
       "      <th>ข้ามฝั่งแห่งฝัน (ใหม่ล่าสุด).1</th>\n",
       "      <th>คืนถิ่นจีนใหญ่ (ใหม่ล่าสุด).1</th>\n",
       "      <th>บันทึกภาพฯเมื่อครั้งในหลวงทรงผนวช.1</th>\n",
       "    </tr>\n",
       "  </thead>\n",
       "  <tbody>\n",
       "    <tr>\n",
       "      <td>0</td>\n",
       "      <td>ผู้เขียน : J.K. Rowling</td>\n",
       "      <td>ผู้เขียน : J.K. Rowling</td>\n",
       "      <td>ผู้เขียน : J.K. Rowling</td>\n",
       "      <td>ผู้เขียน : J.K. Rowling</td>\n",
       "      <td>ผู้เขียน : J.K. Rowling</td>\n",
       "      <td>ผู้เขียน : J.K. Rowling</td>\n",
       "      <td>ผู้เขียน : J.K. Rowling</td>\n",
       "      <td>ผู้เขียน : J.K. Rowling</td>\n",
       "      <td>ผู้เขียน : J.K. Rowling</td>\n",
       "      <td>ผู้เขียน : นาคาลัย</td>\n",
       "      <td>...</td>\n",
       "      <td>ผู้เขียน : สมเด็จพระกนิษฐาธิราชเจ้า กรมสมเด็จพ...</td>\n",
       "      <td>ผู้เขียน : สมเด็จพระกนิษฐาธิราชเจ้า กรมสมเด็จพ...</td>\n",
       "      <td>ผู้เขียน : สมเด็จพระกนิษฐาธิราชเจ้า กรมสมเด็จพ...</td>\n",
       "      <td>ผู้เขียน : สมเด็จพระกนิษฐาธิราชเจ้า กรมสมเด็จพ...</td>\n",
       "      <td>ผู้เขียน : สมเด็จพระกนิษฐาธิราชเจ้า กรมสมเด็จพ...</td>\n",
       "      <td>ผู้เขียน : พระบาทสมเด็จพระปรมินทรมหาภูมิพลอดุล...</td>\n",
       "      <td>ผู้เขียน : สมเด็จพระกนิษฐาธิราชเจ้า กรมสมเด็จพ...</td>\n",
       "      <td>ผู้เขียน : สมเด็จพระกนิษฐาธิราชเจ้า กรมสมเด็จพ...</td>\n",
       "      <td>ผู้เขียน : สมเด็จพระกนิษฐาธิราชเจ้า กรมสมเด็จพ...</td>\n",
       "      <td>ผู้เขียน : พินิจ จันทร</td>\n",
       "    </tr>\n",
       "    <tr>\n",
       "      <td>1</td>\n",
       "      <td>สำนักพิมพ์ : นานมีบุ๊คส์&lt;end line&gt;บาร์โค้ด : 3...</td>\n",
       "      <td>สำนักพิมพ์ : นานมีบุ๊คส์&lt;end line&gt;บาร์โค้ด : 3...</td>\n",
       "      <td>สำนักพิมพ์ : นานมีบุ๊คส์&lt;end line&gt;บาร์โค้ด : 9...</td>\n",
       "      <td>สำนักพิมพ์ : นานมีบุ๊คส์&lt;end line&gt;บาร์โค้ด : 9...</td>\n",
       "      <td>สำนักพิมพ์ : นานมีบุ๊คส์&lt;end line&gt;บาร์โค้ด : 9...</td>\n",
       "      <td>สำนักพิมพ์ : นานมีบุ๊คส์&lt;end line&gt;บาร์โค้ด : 9...</td>\n",
       "      <td>สำนักพิมพ์ : นานมีบุ๊คส์&lt;end line&gt;บาร์โค้ด : 9...</td>\n",
       "      <td>สำนักพิมพ์ : นานมีบุ๊คส์&lt;end line&gt;บาร์โค้ด : 9...</td>\n",
       "      <td>สำนักพิมพ์ : นานมีบุ๊คส์&lt;end line&gt;บาร์โค้ด : 9...</td>\n",
       "      <td>สำนักพิมพ์ : ดีต่อใจ&lt;end line&gt;บาร์โค้ด : 97861...</td>\n",
       "      <td>...</td>\n",
       "      <td>สำนักพิมพ์ : มูลนิธิสมเด็จพระเทพฯ&lt;end line&gt;บาร...</td>\n",
       "      <td>สำนักพิมพ์ : มูลนิธิสมเด็จพระเทพฯ&lt;end line&gt;บาร...</td>\n",
       "      <td>สำนักพิมพ์ : มูลนิธิสมเด็จพระเทพฯ&lt;end line&gt;บาร...</td>\n",
       "      <td>สำนักพิมพ์ : นานมีบุ๊คส์&lt;end line&gt;บาร์โค้ด : 9...</td>\n",
       "      <td>สำนักพิมพ์ : มูลนิธิสมเด็จพระเทพฯ&lt;end line&gt;บาร...</td>\n",
       "      <td>สำนักพิมพ์ : วังสวนจิตรลดา&lt;end line&gt;บาร์โค้ด :...</td>\n",
       "      <td>สำนักพิมพ์ : มูลนิธิสมเด็จพระเทพฯ&lt;end line&gt;บาร...</td>\n",
       "      <td>สำนักพิมพ์ : มูลนิธิสมเด็จพระเทพฯ&lt;end line&gt;บาร...</td>\n",
       "      <td>สำนักพิมพ์ : มูลนิธิสมเด็จพระเทพฯ&lt;end line&gt;บาร...</td>\n",
       "      <td>สำนักพิมพ์ : ปัญญาชน&lt;end line&gt;บาร์โค้ด : 97861...</td>\n",
       "    </tr>\n",
       "  </tbody>\n",
       "</table>\n",
       "<p>2 rows × 4000 columns</p>\n",
       "</div>"
      ],
      "text/plain": [
       "   Box set แฮร์รี่ พอตเตอร์ ฉบับครบรอบ 20ปี (ปกแข็ง)  \\\n",
       "0                            ผู้เขียน : J.K. Rowling   \n",
       "1  สำนักพิมพ์ : นานมีบุ๊คส์<end line>บาร์โค้ด : 3...   \n",
       "\n",
       "   แพ็กชุด แฮร์รี่ พอตเตอร์ ฉบับครบรอบ 20ปี (ปกอ่อน)  \\\n",
       "0                            ผู้เขียน : J.K. Rowling   \n",
       "1  สำนักพิมพ์ : นานมีบุ๊คส์<end line>บาร์โค้ด : 3...   \n",
       "\n",
       "             แฮร์รี่พอตเตอร์กับภาคีนกฟีนิกซ์ล.5 20ปี  \\\n",
       "0                            ผู้เขียน : J.K. Rowling   \n",
       "1  สำนักพิมพ์ : นานมีบุ๊คส์<end line>บาร์โค้ด : 9...   \n",
       "\n",
       "            แฮร์รี่พอตเตอร์กับเจ้าชายเลือดผสมล.6 20ป  \\\n",
       "0                            ผู้เขียน : J.K. Rowling   \n",
       "1  สำนักพิมพ์ : นานมีบุ๊คส์<end line>บาร์โค้ด : 9...   \n",
       "\n",
       "            แฮร์รี่พอตเตอร์กับห้องแห่งความลับ ล2 20ป  \\\n",
       "0                            ผู้เขียน : J.K. Rowling   \n",
       "1  สำนักพิมพ์ : นานมีบุ๊คส์<end line>บาร์โค้ด : 9...   \n",
       "\n",
       "             แฮร์รี่ พอตเตอร์กับศิลาอาถรรพ์ ล.1 20ปี  \\\n",
       "0                            ผู้เขียน : J.K. Rowling   \n",
       "1  สำนักพิมพ์ : นานมีบุ๊คส์<end line>บาร์โค้ด : 9...   \n",
       "\n",
       "             แฮร์รี่พอตเตอร์กับนักโทษแห่งอัซคาบันล.3  \\\n",
       "0                            ผู้เขียน : J.K. Rowling   \n",
       "1  สำนักพิมพ์ : นานมีบุ๊คส์<end line>บาร์โค้ด : 9...   \n",
       "\n",
       "            แฮร์รี่พอตเตอร์กับเครื่องรางยมทูตล.7 20ป  \\\n",
       "0                            ผู้เขียน : J.K. Rowling   \n",
       "1  สำนักพิมพ์ : นานมีบุ๊คส์<end line>บาร์โค้ด : 9...   \n",
       "\n",
       "               แฮร์รี่พอตเตอร์กับถ้วยอัคนี ล.4  20ปี  \\\n",
       "0                            ผู้เขียน : J.K. Rowling   \n",
       "1  สำนักพิมพ์ : นานมีบุ๊คส์<end line>บาร์โค้ด : 9...   \n",
       "\n",
       "                                              คนใจดำ  ...  \\\n",
       "0                                 ผู้เขียน : นาคาลัย  ...   \n",
       "1  สำนักพิมพ์ : ดีต่อใจ<end line>บาร์โค้ด : 97861...  ...   \n",
       "\n",
       "                      เย็นสบายชายนํ้า (ใหม่ล่าสุด).1  \\\n",
       "0  ผู้เขียน : สมเด็จพระกนิษฐาธิราชเจ้า กรมสมเด็จพ...   \n",
       "1  สำนักพิมพ์ : มูลนิธิสมเด็จพระเทพฯ<end line>บาร...   \n",
       "\n",
       "                        สิงคโปร์สัญจร (ใหม่ล่าสุด).1  \\\n",
       "0  ผู้เขียน : สมเด็จพระกนิษฐาธิราชเจ้า กรมสมเด็จพ...   \n",
       "1  สำนักพิมพ์ : มูลนิธิสมเด็จพระเทพฯ<end line>บาร...   \n",
       "\n",
       "                           โรมันสัญจร (ใหม่ล่าสุด).1  \\\n",
       "0  ผู้เขียน : สมเด็จพระกนิษฐาธิราชเจ้า กรมสมเด็จพ...   \n",
       "1  สำนักพิมพ์ : มูลนิธิสมเด็จพระเทพฯ<end line>บาร...   \n",
       "\n",
       "            Kaew the Naughty(แก้วจอมซน/ภาษาอังกฤษ).1  \\\n",
       "0  ผู้เขียน : สมเด็จพระกนิษฐาธิราชเจ้า กรมสมเด็จพ...   \n",
       "1  สำนักพิมพ์ : นานมีบุ๊คส์<end line>บาร์โค้ด : 9...   \n",
       "\n",
       "                      ใต้เมฆที่เมฆใต้ (ใหม่ล่าสุด).1  \\\n",
       "0  ผู้เขียน : สมเด็จพระกนิษฐาธิราชเจ้า กรมสมเด็จพ...   \n",
       "1  สำนักพิมพ์ : มูลนิธิสมเด็จพระเทพฯ<end line>บาร...   \n",
       "\n",
       "                      ชุดพระมหาชนกและหนังสือทองแดง.1  \\\n",
       "0  ผู้เขียน : พระบาทสมเด็จพระปรมินทรมหาภูมิพลอดุล...   \n",
       "1  สำนักพิมพ์ : วังสวนจิตรลดา<end line>บาร์โค้ด :...   \n",
       "\n",
       "                 เยือนถิ่นจีนโพ้นทะเล (ใหม่ล่าสุด).1  \\\n",
       "0  ผู้เขียน : สมเด็จพระกนิษฐาธิราชเจ้า กรมสมเด็จพ...   \n",
       "1  สำนักพิมพ์ : มูลนิธิสมเด็จพระเทพฯ<end line>บาร...   \n",
       "\n",
       "                      ข้ามฝั่งแห่งฝัน (ใหม่ล่าสุด).1  \\\n",
       "0  ผู้เขียน : สมเด็จพระกนิษฐาธิราชเจ้า กรมสมเด็จพ...   \n",
       "1  สำนักพิมพ์ : มูลนิธิสมเด็จพระเทพฯ<end line>บาร...   \n",
       "\n",
       "                       คืนถิ่นจีนใหญ่ (ใหม่ล่าสุด).1  \\\n",
       "0  ผู้เขียน : สมเด็จพระกนิษฐาธิราชเจ้า กรมสมเด็จพ...   \n",
       "1  สำนักพิมพ์ : มูลนิธิสมเด็จพระเทพฯ<end line>บาร...   \n",
       "\n",
       "                 บันทึกภาพฯเมื่อครั้งในหลวงทรงผนวช.1  \n",
       "0                             ผู้เขียน : พินิจ จันทร  \n",
       "1  สำนักพิมพ์ : ปัญญาชน<end line>บาร์โค้ด : 97861...  \n",
       "\n",
       "[2 rows x 4000 columns]"
      ]
     },
     "execution_count": 31,
     "metadata": {},
     "output_type": "execute_result"
    }
   ],
   "source": [
    "data.head()"
   ]
  },
  {
   "cell_type": "code",
   "execution_count": 32,
   "metadata": {},
   "outputs": [],
   "source": [
    "def split_line(data):\n",
    "    # Split each line by '<end line>'\n",
    "    data_split = {}\n",
    "    for k,v in data.iteritems():\n",
    "        tmp = [t.split('<end line>') for t in v]\n",
    "    \n",
    "        # Split attribute and value by ':'\n",
    "        for l in tmp:\n",
    "            attr_val = [clean_text(s).split(':') for s in l]\n",
    "        data_split[k] = attr_val\n",
    "    return data_split"
   ]
  },
  {
   "cell_type": "code",
   "execution_count": 33,
   "metadata": {},
   "outputs": [],
   "source": [
    "data_split = split_line(data)"
   ]
  },
  {
   "cell_type": "code",
   "execution_count": 34,
   "metadata": {},
   "outputs": [
    {
     "data": {
      "text/plain": [
       "dict"
      ]
     },
     "execution_count": 34,
     "metadata": {},
     "output_type": "execute_result"
    }
   ],
   "source": [
    "type(data_split)"
   ]
  },
  {
   "cell_type": "code",
   "execution_count": 35,
   "metadata": {},
   "outputs": [],
   "source": [
    "def create_triples(data_split):\n",
    "    triples = []\n",
    "    relations = []\n",
    "    for n in data_split:\n",
    "        for li in data_split[n]:\n",
    "            idx = 0\n",
    "            for idx in range(len(li)-1):\n",
    "                tmp_list = [n]\n",
    "                tmp_list.extend([li[idx],li[idx+1]])\n",
    "                relations.append(li[idx])\n",
    "                triples.append(tmp_list)\n",
    "                idx += 1\n",
    "    return triples,relations\n",
    "            "
   ]
  },
  {
   "cell_type": "code",
   "execution_count": 36,
   "metadata": {},
   "outputs": [],
   "source": [
    "triples, relations = create_triples(data_split)"
   ]
  },
  {
   "cell_type": "code",
   "execution_count": 37,
   "metadata": {},
   "outputs": [],
   "source": [
    "def save_to_txt(triples, file_name):\n",
    "# Write the triples to text file\n",
    "    with open('./Data/triples_{}.txt'.format(file_name), 'w', encoding='utf-8') as f:\n",
    "        for _list in triples:\n",
    "            for _string in _list:\n",
    "                #f.seek(0)\n",
    "                f.write(str(_string) + '\\t')\n",
    "            f.write('\\n')\n",
    "    return"
   ]
  },
  {
   "cell_type": "code",
   "execution_count": 38,
   "metadata": {},
   "outputs": [],
   "source": [
    "save_to_txt(triples, file_name)"
   ]
  },
  {
   "cell_type": "code",
   "execution_count": 40,
   "metadata": {},
   "outputs": [
    {
     "data": {
      "text/plain": [
       "'หมวดหมู่'"
      ]
     },
     "execution_count": 40,
     "metadata": {},
     "output_type": "execute_result"
    }
   ],
   "source": [
    "from pythainlp.spell import correct\n",
    "\n",
    "correct(\"หมวดหมู\")"
   ]
  },
  {
   "cell_type": "code",
   "execution_count": null,
   "metadata": {},
   "outputs": [],
   "source": []
  }
 ],
 "metadata": {
  "kernelspec": {
   "display_name": "Python 3",
   "language": "python",
   "name": "python3"
  },
  "language_info": {
   "codemirror_mode": {
    "name": "ipython",
    "version": 3
   },
   "file_extension": ".py",
   "mimetype": "text/x-python",
   "name": "python",
   "nbconvert_exporter": "python",
   "pygments_lexer": "ipython3",
   "version": "3.7.4"
  }
 },
 "nbformat": 4,
 "nbformat_minor": 4
}
